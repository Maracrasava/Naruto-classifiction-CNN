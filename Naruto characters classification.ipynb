{
 "cells": [
  {
   "cell_type": "code",
   "execution_count": 1,
   "metadata": {},
   "outputs": [],
   "source": [
    "import matplotlib.pyplot as plt\n",
    "import numpy as np\n",
    "import tensorflow as tf\n",
    "from tensorflow import keras\n",
    "from tensorflow.keras import layers\n",
    "from tensorflow.keras.models import Sequential\n",
    "import os \n",
    "import cv2"
   ]
  },
  {
   "cell_type": "code",
   "execution_count": 2,
   "metadata": {},
   "outputs": [
    {
     "data": {
      "text/plain": [
       "'C:\\\\Users\\\\maracrasava\\\\Desktop\\\\Projects\\\\Machine learning\\\\Neural Network\\\\Naruto'"
      ]
     },
     "execution_count": 2,
     "metadata": {},
     "output_type": "execute_result"
    }
   ],
   "source": [
    "os.getcwd()"
   ]
  },
  {
   "cell_type": "code",
   "execution_count": 3,
   "metadata": {},
   "outputs": [],
   "source": [
    "os.chdir('D:')"
   ]
  },
  {
   "cell_type": "code",
   "execution_count": 4,
   "metadata": {},
   "outputs": [
    {
     "data": {
      "text/plain": [
       "'D:\\\\'"
      ]
     },
     "execution_count": 4,
     "metadata": {},
     "output_type": "execute_result"
    }
   ],
   "source": [
    "os.getcwd()"
   ]
  },
  {
   "cell_type": "code",
   "execution_count": 5,
   "metadata": {},
   "outputs": [
    {
     "data": {
      "text/plain": [
       "['$RECYCLE.BIN',\n",
       " 'Anaconda',\n",
       " 'Cheat Engine 7.1',\n",
       " 'Config.Msi',\n",
       " 'download',\n",
       " 'Epic Games',\n",
       " 'FortiClient VPN',\n",
       " 'Games',\n",
       " 'Grand Theft Auto San Andreas',\n",
       " 'Grand Theft Auto San Andreas by Igruha',\n",
       " 'install_tools.bat',\n",
       " 'KillingFloor2',\n",
       " 'Launcher',\n",
       " 'Microsoft VS Code',\n",
       " 'Mono',\n",
       " 'mono.msi',\n",
       " 'msdownld.tmp',\n",
       " 'naruto_anime',\n",
       " 'node.exe',\n",
       " 'nodevars.bat',\n",
       " 'node_etw_provider.man',\n",
       " 'node_modules',\n",
       " 'npm',\n",
       " 'npm.cmd',\n",
       " 'npx',\n",
       " 'npx.cmd',\n",
       " 'OneDrive - nu.edu.kz',\n",
       " 'OneDriveTemp',\n",
       " 'PyCharm 2020.1.2',\n",
       " 'PyCharm Community Edition 2020.1.2',\n",
       " 'Sekiro Shadows Die Twice',\n",
       " 'Shadow of the Tomb Raider',\n",
       " 'SteamLibrary',\n",
       " 'System',\n",
       " 'System Volume Information',\n",
       " 'System64',\n",
       " 'The Witcher 3 Wild Hunt']"
      ]
     },
     "execution_count": 5,
     "metadata": {},
     "output_type": "execute_result"
    }
   ],
   "source": [
    "os.listdir()"
   ]
  },
  {
   "cell_type": "code",
   "execution_count": 6,
   "metadata": {},
   "outputs": [],
   "source": [
    "root_directory = os.path.join(os.getcwd(), 'naruto_anime')\n",
    "os.chdir(root_directory)"
   ]
  },
  {
   "cell_type": "code",
   "execution_count": 7,
   "metadata": {},
   "outputs": [
    {
     "data": {
      "text/plain": [
       "['naruto', 'sakura', 'sasuke', 'testing']"
      ]
     },
     "execution_count": 7,
     "metadata": {},
     "output_type": "execute_result"
    }
   ],
   "source": [
    "os.listdir()"
   ]
  },
  {
   "cell_type": "code",
   "execution_count": 143,
   "metadata": {
    "scrolled": true
   },
   "outputs": [],
   "source": [
    "training_data =[]\n",
    "characters = ['naruto', 'sakura', 'sasuke']\n",
    "\n",
    "\n",
    "for c in characters:\n",
    "    path = os.path.join(root_directory, c)\n",
    "    class_num = characters.index(c)         # Making index label\n",
    "    for i in os.listdir(path):\n",
    "        try:\n",
    "            # 4th rank Tensor (1318, 70, 70, 3)\n",
    "            array_images = cv2.imread(os.path.join(path, i), cv2.IMREAD_COLOR)\n",
    "            rgb_images = cv2.cvtColor(array_images, cv2.COLOR_BGR2RGB) \n",
    "            SHAPE_IMAGE = 70\n",
    "            shaped_images = cv2.resize(rgb_images, (SHAPE_IMAGE, SHAPE_IMAGE))\n",
    "        except Exception as e:\n",
    "            pass\n",
    "        \"\"\"\n",
    "        plt.imshow(shaped_images)\n",
    "        plt.show()\n",
    "        \"\"\"\n",
    "        training_data.append([shaped_images, class_num])   "
   ]
  },
  {
   "cell_type": "code",
   "execution_count": 215,
   "metadata": {},
   "outputs": [
    {
     "data": {
      "image/png": "[encoded data removed]",
      "text/plain": [
       "<Figure size 432x288 with 1 Axes>"
      ]
     },
     "metadata": {
      "needs_background": "light"
     },
     "output_type": "display_data"
    },
    {
     "name": "stdout",
     "output_type": "stream",
     "text": [
      "(70, 70, 3)\n",
      "(1318, 2)\n"
     ]
    }
   ],
   "source": [
    "import random\n",
    "\n",
    "random.shuffle(training_data)\n",
    "plt.imshow(shaped_images)\n",
    "plt.show()\n",
    "print(shaped_images.shape)\n",
    "print(np.array(training_data).shape)\n"
   ]
  },
  {
   "cell_type": "code",
   "execution_count": 102,
   "metadata": {},
   "outputs": [
    {
     "name": "stdout",
     "output_type": "stream",
     "text": [
      "D:\\naruto_anime\\testing\n"
     ]
    }
   ],
   "source": [
    "path_test = os.path.join(root_directory, \"testing\")\n",
    "print(path_test)"
   ]
  },
  {
   "cell_type": "code",
   "execution_count": 220,
   "metadata": {
    "scrolled": false
   },
   "outputs": [],
   "source": [
    "test_folders = ['naruto_test', 'sakura_test', 'sasuke_test']\n",
    "all_test_images = []\n",
    "\n",
    "\n",
    "for f in test_folders:\n",
    "    path_test_folders = os.path.join(path_test, f)\n",
    "    # print(path_test_folders)\n",
    "    class_number = test_folders.index(f)\n",
    "    for i in os.listdir(path_test_folders):\n",
    "        try:\n",
    "            test_images = cv2.imread(os.path.join(path_test_folders, i), cv2.IMREAD_COLOR)\n",
    "            turnto_rgb = cv2.cvtColor(test_images, cv2.COLOR_BGR2RGB)\n",
    "            resized_test = cv2.resize(turnto_rgb, (70, 70))\n",
    "            all_test_images.append([resized_test, class_number])\n",
    "        except Exception as e:\n",
    "            pass"
   ]
  },
  {
   "cell_type": "code",
   "execution_count": 227,
   "metadata": {},
   "outputs": [
    {
     "name": "stdout",
     "output_type": "stream",
     "text": [
      "(70, 70, 3)\n",
      "(165, 2)\n"
     ]
    },
    {
     "data": {
      "image/png": "[encoded data removed]",
      "text/plain": [
       "<Figure size 432x288 with 1 Axes>"
      ]
     },
     "metadata": {
      "needs_background": "light"
     },
     "output_type": "display_data"
    }
   ],
   "source": [
    "random.shuffle(all_test_images)\n",
    "print(resized_test.shape)\n",
    "print(np.array(all_test_images).shape)\n",
    "plt.imshow(resized_test)\n",
    "plt.show()"
   ]
  },
  {
   "cell_type": "code",
   "execution_count": 228,
   "metadata": {},
   "outputs": [
    {
     "name": "stdout",
     "output_type": "stream",
     "text": [
      "Labels of test:0\n",
      "Labels of test:1\n",
      "Labels of test:0\n",
      "Labels of test:2\n",
      "Labels of test:2\n",
      "Labels of train.:0\n",
      "Labels of train.:1\n",
      "Labels of train.:0\n",
      "Labels of train.:2\n",
      "Labels of train.:2\n"
     ]
    }
   ],
   "source": [
    "for label in all_test_images[:5]:\n",
    "    # label[1] prints class nums, label[0] prints features(img array)\n",
    "    print(f\"Labels of test:{label[1]}\")\n",
    "for label in training_data[:5]:\n",
    "    print(f\"Labels of train.:{label[1]}\")"
   ]
  },
  {
   "cell_type": "code",
   "execution_count": 243,
   "metadata": {},
   "outputs": [],
   "source": [
    "X = []\n",
    "y = []\n",
    "X_test = []\n",
    "y_test = []\n",
    "\n",
    "for features, labels in training_data:\n",
    "        X.append(features)\n",
    "        y.append(labels)\n",
    "        \n",
    "for features, labels in all_test_images:\n",
    "        X_test.append(features)\n",
    "        y_test.append(labels)\n",
    "    \n",
    "# reshape(any # of features, w, h, dimensions)\n",
    "X = np.array(X).reshape(-1, 70, 70, 3)\n",
    "# Labels also must be converted to array\n",
    "y = np.array(y)\n",
    "X_test = np.array(X).reshape(-1, 70, 70, 3)\n",
    "y_test = np.array(y_test)"
   ]
  },
  {
   "cell_type": "code",
   "execution_count": 230,
   "metadata": {},
   "outputs": [],
   "source": [
    "# To save data\n",
    "import pickle \n",
    "\n",
    "os.chdir('C:\\\\Users\\\\maracrasava\\\\Desktop\\\\Projects\\\\Machine learning\\\\Neural Network\\\\Naruto')\n",
    "\n",
    "pickle_out = open(\"X.pickle\", \"wb\")\n",
    "pickle.dump(X, pickle_out)\n",
    "pickle_out.close()\n",
    "\n",
    "pickle_out = open(\"y.pickle\", \"wb\")\n",
    "pickle.dump(y, pickle_out)\n",
    "pickle_out.close()\n",
    "\n",
    "pickle_out = open(\"X_test.pickle\", \"wb\")\n",
    "pickle.dump(X_test, pickle_out)\n",
    "pickle_out.close()\n",
    "\n",
    "pickle_out = open(\"y_test.pickle\", \"wb\")\n",
    "pickle.dump(y_test, pickle_out)\n",
    "pickle_out.close()\n"
   ]
  },
  {
   "cell_type": "code",
   "execution_count": 236,
   "metadata": {},
   "outputs": [],
   "source": [
    "# Creating a model\n",
    "\n",
    "model = Sequential()\n",
    "model.add(layers.Conv2D(32, (3, 3), activation=\"relu\", input_shape=(70,70,3)))\n",
    "model.add(layers.MaxPool2D(2,2))\n",
    "model.add(layers.Conv2D(64, (3, 3), activation=\"relu\"))\n",
    "model.add(layers.MaxPool2D(2,2))\n",
    "model.add(layers.Conv2D(64, (3, 3), activation=\"relu\"))\n",
    "model.add(layers.Flatten())\n",
    "model.add(layers.Dense(64, activation=\"relu\"))\n",
    "model.add(layers.Dense(16, activation=\"relu\"))\n",
    "model.add(layers.Dense(3))"
   ]
  },
  {
   "cell_type": "code",
   "execution_count": 240,
   "metadata": {},
   "outputs": [
    {
     "name": "stdout",
     "output_type": "stream",
     "text": [
      "Model: \"sequential_3\"\n",
      "_________________________________________________________________\n",
      "Layer (type)                 Output Shape              Param #   \n",
      "=================================================================\n",
      "conv2d_9 (Conv2D)            (None, 68, 68, 32)        896       \n",
      "_________________________________________________________________\n",
      "max_pooling2d_6 (MaxPooling2 (None, 34, 34, 32)        0         \n",
      "_________________________________________________________________\n",
      "conv2d_10 (Conv2D)           (None, 32, 32, 64)        18496     \n",
      "_________________________________________________________________\n",
      "max_pooling2d_7 (MaxPooling2 (None, 16, 16, 64)        0         \n",
      "_________________________________________________________________\n",
      "conv2d_11 (Conv2D)           (None, 14, 14, 64)        36928     \n",
      "_________________________________________________________________\n",
      "flatten_3 (Flatten)          (None, 12544)             0         \n",
      "_________________________________________________________________\n",
      "dense_5 (Dense)              (None, 64)                802880    \n",
      "_________________________________________________________________\n",
      "dense_6 (Dense)              (None, 16)                1040      \n",
      "_________________________________________________________________\n",
      "dense_7 (Dense)              (None, 3)                 51        \n",
      "=================================================================\n",
      "Total params: 860,291\n",
      "Trainable params: 860,291\n",
      "Non-trainable params: 0\n",
      "_________________________________________________________________\n"
     ]
    }
   ],
   "source": [
    "model.summary()"
   ]
  },
  {
   "cell_type": "code",
   "execution_count": 247,
   "metadata": {},
   "outputs": [
    {
     "name": "stdout",
     "output_type": "stream",
     "text": [
      "Epoch 1/10\n",
      "38/38 [==============================] - 2s 60ms/step - loss: 0.5493 - accuracy: 0.8364 - val_loss: 0.4587 - val_accuracy: 0.8409\n",
      "Epoch 2/10\n",
      "38/38 [==============================] - 2s 54ms/step - loss: 0.3718 - accuracy: 0.8988 - val_loss: 0.5363 - val_accuracy: 0.8561\n",
      "Epoch 3/10\n",
      "38/38 [==============================] - 2s 55ms/step - loss: 0.2962 - accuracy: 0.9056 - val_loss: 1.7836 - val_accuracy: 0.7424\n",
      "Epoch 4/10\n",
      "38/38 [==============================] - 2s 55ms/step - loss: 0.2573 - accuracy: 0.9224 - val_loss: 0.2920 - val_accuracy: 0.8864\n",
      "Epoch 5/10\n",
      "38/38 [==============================] - 2s 54ms/step - loss: 0.2287 - accuracy: 0.9266 - val_loss: 0.3457 - val_accuracy: 0.8561\n",
      "Epoch 6/10\n",
      "38/38 [==============================] - 2s 55ms/step - loss: 0.1882 - accuracy: 0.9401 - val_loss: 0.4320 - val_accuracy: 0.8939\n",
      "Epoch 7/10\n",
      "38/38 [==============================] - 2s 54ms/step - loss: 0.1493 - accuracy: 0.9519 - val_loss: 0.3940 - val_accuracy: 0.8939\n",
      "Epoch 8/10\n",
      "38/38 [==============================] - 2s 54ms/step - loss: 0.1300 - accuracy: 0.9637 - val_loss: 0.3609 - val_accuracy: 0.8939\n",
      "Epoch 9/10\n",
      "38/38 [==============================] - 2s 55ms/step - loss: 0.1153 - accuracy: 0.9680 - val_loss: 0.3934 - val_accuracy: 0.9091\n",
      "Epoch 10/10\n",
      "38/38 [==============================] - 2s 54ms/step - loss: 0.1650 - accuracy: 0.9519 - val_loss: 0.7581 - val_accuracy: 0.6515\n"
     ]
    }
   ],
   "source": [
    "# Compiling the model\n",
    "\n",
    "model.compile(optimizer=\"adam\",\n",
    "              loss=tf.keras.losses.SparseCategoricalCrossentropy(from_logits=True),\n",
    "              metrics=[\"accuracy\"])\n",
    "\"\"\"\n",
    "# RGB image is in range 0-255, normalize it to 0-1\n",
    "train_images = X / 255\n",
    "test_images = X_test / 255\n",
    "\"\"\"\n",
    "\n",
    "# Giving data to model\n",
    "\n",
    "history = model.fit(X, y, epochs=10, validation_split=0.1)"
   ]
  },
  {
   "cell_type": "code",
   "execution_count": 249,
   "metadata": {},
   "outputs": [
    {
     "name": "stdout",
     "output_type": "stream",
     "text": [
      "Prediction: naruto_test, Actual: naruto_test \n",
      "Prediction: sakura_test, Actual: sakura_test \n",
      "Prediction: naruto_test, Actual: naruto_test \n",
      "Prediction: sakura_test, Actual: sasuke_test \n",
      "Prediction: sakura_test, Actual: sasuke_test \n",
      "Prediction: sakura_test, Actual: sakura_test \n",
      "Prediction: sakura_test, Actual: naruto_test \n",
      "Prediction: naruto_test, Actual: sasuke_test \n",
      "Prediction: naruto_test, Actual: sasuke_test \n",
      "Prediction: sakura_test, Actual: naruto_test \n",
      "Prediction: naruto_test, Actual: naruto_test \n",
      "Prediction: naruto_test, Actual: sakura_test \n",
      "Prediction: naruto_test, Actual: sakura_test \n",
      "Prediction: naruto_test, Actual: naruto_test \n",
      "Prediction: sakura_test, Actual: sakura_test \n",
      "Prediction: sakura_test, Actual: sakura_test \n",
      "Prediction: sakura_test, Actual: sakura_test \n",
      "Prediction: naruto_test, Actual: naruto_test \n",
      "Prediction: naruto_test, Actual: sasuke_test \n",
      "Prediction: naruto_test, Actual: sakura_test \n",
      "Prediction: naruto_test, Actual: sakura_test \n",
      "Prediction: sakura_test, Actual: naruto_test \n",
      "Prediction: sakura_test, Actual: naruto_test \n",
      "Prediction: naruto_test, Actual: sakura_test \n",
      "Prediction: sakura_test, Actual: naruto_test \n",
      "Prediction: sakura_test, Actual: naruto_test \n",
      "Prediction: sakura_test, Actual: sakura_test \n",
      "Prediction: sakura_test, Actual: sakura_test \n",
      "Prediction: sakura_test, Actual: naruto_test \n",
      "Prediction: naruto_test, Actual: naruto_test \n",
      "Prediction: sakura_test, Actual: naruto_test \n",
      "Prediction: sakura_test, Actual: naruto_test \n",
      "Prediction: naruto_test, Actual: sakura_test \n",
      "Prediction: naruto_test, Actual: naruto_test \n",
      "Prediction: sakura_test, Actual: sasuke_test \n",
      "Prediction: sakura_test, Actual: naruto_test \n",
      "Prediction: naruto_test, Actual: sasuke_test \n",
      "Prediction: naruto_test, Actual: naruto_test \n",
      "Prediction: sakura_test, Actual: sakura_test \n",
      "Prediction: sakura_test, Actual: sasuke_test \n",
      "Prediction: naruto_test, Actual: sakura_test \n",
      "Prediction: sakura_test, Actual: sakura_test \n",
      "Prediction: sakura_test, Actual: naruto_test \n",
      "Prediction: sakura_test, Actual: naruto_test \n",
      "Prediction: sakura_test, Actual: naruto_test \n",
      "Prediction: naruto_test, Actual: sasuke_test \n",
      "Prediction: naruto_test, Actual: sakura_test \n",
      "Prediction: naruto_test, Actual: sakura_test \n",
      "Prediction: sakura_test, Actual: naruto_test \n",
      "Prediction: naruto_test, Actual: naruto_test \n",
      "Prediction: sakura_test, Actual: sakura_test \n",
      "Prediction: naruto_test, Actual: sasuke_test \n",
      "Prediction: sakura_test, Actual: sakura_test \n",
      "Prediction: naruto_test, Actual: sakura_test \n",
      "Prediction: naruto_test, Actual: sakura_test \n",
      "Prediction: sakura_test, Actual: sasuke_test \n",
      "Prediction: naruto_test, Actual: sasuke_test \n",
      "Prediction: naruto_test, Actual: naruto_test \n",
      "Prediction: naruto_test, Actual: sasuke_test \n",
      "Prediction: sakura_test, Actual: sasuke_test \n",
      "Prediction: sakura_test, Actual: sasuke_test \n",
      "Prediction: sakura_test, Actual: naruto_test \n",
      "Prediction: naruto_test, Actual: naruto_test \n",
      "Prediction: naruto_test, Actual: sakura_test \n",
      "Prediction: naruto_test, Actual: naruto_test \n",
      "Prediction: naruto_test, Actual: naruto_test \n",
      "Prediction: naruto_test, Actual: sakura_test \n",
      "Prediction: naruto_test, Actual: sakura_test \n",
      "Prediction: naruto_test, Actual: naruto_test \n",
      "Prediction: sakura_test, Actual: sakura_test \n",
      "Prediction: naruto_test, Actual: naruto_test \n",
      "Prediction: sakura_test, Actual: sasuke_test \n",
      "Prediction: sakura_test, Actual: naruto_test \n",
      "Prediction: sakura_test, Actual: naruto_test \n",
      "Prediction: sakura_test, Actual: naruto_test \n",
      "Prediction: sakura_test, Actual: sakura_test \n",
      "Prediction: naruto_test, Actual: sakura_test \n",
      "Prediction: sakura_test, Actual: naruto_test \n",
      "Prediction: sakura_test, Actual: sasuke_test \n",
      "Prediction: sakura_test, Actual: sasuke_test \n",
      "Prediction: naruto_test, Actual: naruto_test \n",
      "Prediction: sakura_test, Actual: sasuke_test \n",
      "Prediction: sakura_test, Actual: naruto_test \n",
      "Prediction: sakura_test, Actual: naruto_test \n",
      "Prediction: naruto_test, Actual: naruto_test \n",
      "Prediction: sakura_test, Actual: naruto_test \n",
      "Prediction: naruto_test, Actual: sakura_test \n",
      "Prediction: naruto_test, Actual: sasuke_test \n",
      "Prediction: naruto_test, Actual: sakura_test \n",
      "Prediction: naruto_test, Actual: naruto_test \n",
      "Prediction: naruto_test, Actual: naruto_test \n",
      "Prediction: sakura_test, Actual: naruto_test \n",
      "Prediction: sakura_test, Actual: naruto_test \n",
      "Prediction: sakura_test, Actual: naruto_test \n",
      "Prediction: sakura_test, Actual: naruto_test \n",
      "Prediction: sakura_test, Actual: naruto_test \n",
      "Prediction: sakura_test, Actual: naruto_test \n",
      "Prediction: sakura_test, Actual: naruto_test \n",
      "Prediction: sakura_test, Actual: naruto_test \n",
      "Prediction: naruto_test, Actual: sakura_test \n",
      "Prediction: sakura_test, Actual: naruto_test \n",
      "Prediction: sakura_test, Actual: sakura_test \n",
      "Prediction: naruto_test, Actual: sasuke_test \n",
      "Prediction: naruto_test, Actual: sakura_test \n",
      "Prediction: naruto_test, Actual: naruto_test \n",
      "Prediction: sakura_test, Actual: naruto_test \n",
      "Prediction: sakura_test, Actual: sakura_test \n",
      "Prediction: sakura_test, Actual: naruto_test \n",
      "Prediction: sakura_test, Actual: sakura_test \n",
      "Prediction: sakura_test, Actual: naruto_test \n",
      "Prediction: sakura_test, Actual: naruto_test \n",
      "Prediction: sakura_test, Actual: sasuke_test \n",
      "Prediction: sakura_test, Actual: naruto_test \n",
      "Prediction: sakura_test, Actual: naruto_test \n",
      "Prediction: sakura_test, Actual: sasuke_test \n",
      "Prediction: naruto_test, Actual: naruto_test \n",
      "Prediction: sakura_test, Actual: naruto_test \n",
      "Prediction: naruto_test, Actual: naruto_test \n",
      "Prediction: naruto_test, Actual: sasuke_test \n",
      "Prediction: sakura_test, Actual: sakura_test \n",
      "Prediction: sakura_test, Actual: naruto_test \n",
      "Prediction: sakura_test, Actual: naruto_test \n",
      "Prediction: sakura_test, Actual: naruto_test \n",
      "Prediction: naruto_test, Actual: sakura_test \n",
      "Prediction: sakura_test, Actual: naruto_test \n",
      "Prediction: sakura_test, Actual: naruto_test \n",
      "Prediction: sakura_test, Actual: sakura_test \n",
      "Prediction: naruto_test, Actual: sakura_test \n",
      "Prediction: naruto_test, Actual: naruto_test \n",
      "Prediction: sakura_test, Actual: sakura_test \n",
      "Prediction: sakura_test, Actual: sakura_test \n",
      "Prediction: sakura_test, Actual: naruto_test \n",
      "Prediction: naruto_test, Actual: sasuke_test \n",
      "Prediction: sakura_test, Actual: naruto_test \n",
      "Prediction: sakura_test, Actual: naruto_test \n",
      "Prediction: sakura_test, Actual: sasuke_test \n",
      "Prediction: sakura_test, Actual: sasuke_test \n",
      "Prediction: naruto_test, Actual: naruto_test \n",
      "Prediction: sakura_test, Actual: sakura_test \n",
      "Prediction: sakura_test, Actual: sasuke_test \n",
      "Prediction: sakura_test, Actual: naruto_test \n",
      "Prediction: sakura_test, Actual: naruto_test \n",
      "Prediction: sakura_test, Actual: sasuke_test \n",
      "Prediction: sakura_test, Actual: naruto_test \n",
      "Prediction: naruto_test, Actual: sasuke_test \n",
      "Prediction: naruto_test, Actual: naruto_test \n",
      "Prediction: naruto_test, Actual: naruto_test \n",
      "Prediction: naruto_test, Actual: naruto_test \n",
      "Prediction: naruto_test, Actual: sasuke_test \n",
      "Prediction: naruto_test, Actual: naruto_test \n",
      "Prediction: sakura_test, Actual: sasuke_test \n",
      "Prediction: naruto_test, Actual: naruto_test \n",
      "Prediction: naruto_test, Actual: sasuke_test \n",
      "Prediction: sakura_test, Actual: naruto_test \n",
      "Prediction: sakura_test, Actual: sasuke_test \n",
      "Prediction: sakura_test, Actual: naruto_test \n",
      "Prediction: sakura_test, Actual: naruto_test \n",
      "Prediction: naruto_test, Actual: sakura_test \n",
      "Prediction: sakura_test, Actual: sakura_test \n",
      "Prediction: sakura_test, Actual: naruto_test \n",
      "Prediction: naruto_test, Actual: sakura_test \n",
      "Prediction: naruto_test, Actual: naruto_test \n",
      "Prediction: naruto_test, Actual: naruto_test \n",
      "Prediction: sakura_test, Actual: sasuke_test \n",
      "Prediction: naruto_test, Actual: naruto_test \n"
     ]
    },
    {
     "ename": "IndexError",
     "evalue": "index 165 is out of bounds for axis 0 with size 165",
     "output_type": "error",
     "traceback": [
      "\u001b[1;31m---------------------------------------------------------------------------\u001b[0m",
      "\u001b[1;31mIndexError\u001b[0m                                Traceback (most recent call last)",
      "\u001b[1;32m<ipython-input-249-722c37ccd58a>\u001b[0m in \u001b[0;36m<module>\u001b[1;34m\u001b[0m\n\u001b[0;32m      2\u001b[0m \u001b[0mprediction\u001b[0m \u001b[1;33m=\u001b[0m \u001b[0mmodel\u001b[0m\u001b[1;33m.\u001b[0m\u001b[0mpredict\u001b[0m\u001b[1;33m(\u001b[0m\u001b[0mX_test\u001b[0m\u001b[1;33m)\u001b[0m\u001b[1;33m\u001b[0m\u001b[1;33m\u001b[0m\u001b[0m\n\u001b[0;32m      3\u001b[0m \u001b[1;32mfor\u001b[0m \u001b[0mi\u001b[0m \u001b[1;32min\u001b[0m \u001b[0mrange\u001b[0m\u001b[1;33m(\u001b[0m\u001b[0mlen\u001b[0m\u001b[1;33m(\u001b[0m\u001b[0mprediction\u001b[0m\u001b[1;33m)\u001b[0m\u001b[1;33m)\u001b[0m\u001b[1;33m:\u001b[0m\u001b[1;33m\u001b[0m\u001b[1;33m\u001b[0m\u001b[0m\n\u001b[1;32m----> 4\u001b[1;33m     \u001b[0mprint\u001b[0m\u001b[1;33m(\u001b[0m\u001b[1;34mf\"Prediction: {test_folders[np.argmax(prediction[i])]}, Actual: {test_folders[int(y_test[i])]} \"\u001b[0m\u001b[1;33m)\u001b[0m\u001b[1;33m\u001b[0m\u001b[1;33m\u001b[0m\u001b[0m\n\u001b[0m",
      "\u001b[1;31mIndexError\u001b[0m: index 165 is out of bounds for axis 0 with size 165"
     ]
    }
   ],
   "source": [
    "# Predicting on new images\n",
    "prediction = model.predict(X_test)\n",
    "for i in range(len(prediction)):\n",
    "    print(f\"Prediction: {test_folders[np.argmax(prediction[i])]}, Actual: {test_folders[int(y_test[i])]} \")"
   ]
  }
 ],
 "metadata": {
  "kernelspec": {
   "display_name": "tengpu",
   "language": "python",
   "name": "tengpu"
  },
  "language_info": {
   "codemirror_mode": {
    "name": "ipython",
    "version": 3
   },
   "file_extension": ".py",
   "mimetype": "text/x-python",
   "name": "python",
   "nbconvert_exporter": "python",
   "pygments_lexer": "ipython3",
   "version": "3.7.7"
  }
 },
 "nbformat": 4,
 "nbformat_minor": 4
}
